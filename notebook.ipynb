{
 "cells": [
  {
   "cell_type": "code",
   "execution_count": 1,
   "metadata": {},
   "outputs": [],
   "source": [
    "# import kagglehub\n",
    "\n",
    "# path = kagglehub.dataset_download(\"ealtman2019/ibm-transactions-for-anti-money-laundering-aml\")\n",
    "\n",
    "# print(\"Path to dataset files:\", path)"
   ]
  },
  {
   "cell_type": "code",
   "execution_count": 2,
   "metadata": {},
   "outputs": [],
   "source": [
    "import warnings  \n",
    "warnings.filterwarnings('ignore')\n",
    "\n",
    "import numpy as np\n",
    "import pandas as pd\n",
    "import matplotlib.pyplot as plt\n",
    "import seaborn as sns\n",
    "import scipy\n",
    "from sklearn.preprocessing import OneHotEncoder\n",
    "from sklearn import preprocessing\n",
    "import sklearn.metrics\n",
    "from sklearn.metrics import average_precision_score\n",
    "from sklearn.metrics import confusion_matrix\n",
    "\n",
    "from sklearn.preprocessing import MinMaxScaler, StandardScaler\n",
    "from sklearn.metrics import mean_squared_error,mean_absolute_error,r2_score\n",
    "from sklearn.model_selection import train_test_split\n",
    "from sklearn.linear_model import LinearRegression\n",
    "from sklearn.model_selection import train_test_split\n",
    "from sklearn.decomposition import PCA\n",
    "from sklearn.preprocessing import OneHotEncoder\n",
    "from sklearn.preprocessing import LabelEncoder\n",
    "from sklearn.ensemble import IsolationForest\n",
    "\n",
    "from keras.models import Model\n",
    "from keras.layers import Input, Embedding, Flatten, Dense, Concatenate\n",
    "from keras.optimizers import Adam\n",
    "from sklearn.model_selection import train_test_split\n",
    "from sklearn.preprocessing import StandardScaler\n",
    "\n",
    "from sklearn.pipeline import Pipeline\n",
    "from sklearn.preprocessing import OneHotEncoder\n",
    "from sklearn.compose import ColumnTransformer\n",
    "from xgboost import XGBClassifier\n",
    "\n",
    "from sklearn.metrics import accuracy_score\n",
    "from sklearn.metrics import precision_score\n",
    "from sklearn.metrics import recall_score\n",
    "from sklearn.metrics import f1_score\n",
    "\n",
    "# from category_encoders import CountEncoder, TargetEncoder\n",
    "from scipy.sparse import hstack"
   ]
  },
  {
   "cell_type": "code",
   "execution_count": 3,
   "metadata": {},
   "outputs": [
    {
     "data": {
      "text/html": [
       "<div>\n",
       "<style scoped>\n",
       "    .dataframe tbody tr th:only-of-type {\n",
       "        vertical-align: middle;\n",
       "    }\n",
       "\n",
       "    .dataframe tbody tr th {\n",
       "        vertical-align: top;\n",
       "    }\n",
       "\n",
       "    .dataframe thead th {\n",
       "        text-align: right;\n",
       "    }\n",
       "</style>\n",
       "<table border=\"1\" class=\"dataframe\">\n",
       "  <thead>\n",
       "    <tr style=\"text-align: right;\">\n",
       "      <th></th>\n",
       "      <th>Timestamp</th>\n",
       "      <th>From Bank</th>\n",
       "      <th>Account</th>\n",
       "      <th>To Bank</th>\n",
       "      <th>Account.1</th>\n",
       "      <th>Amount Received</th>\n",
       "      <th>Receiving Currency</th>\n",
       "      <th>Amount Paid</th>\n",
       "      <th>Payment Currency</th>\n",
       "      <th>Payment Format</th>\n",
       "      <th>Is Laundering</th>\n",
       "    </tr>\n",
       "  </thead>\n",
       "  <tbody>\n",
       "    <tr>\n",
       "      <th>0</th>\n",
       "      <td>2022/09/01 00:20</td>\n",
       "      <td>10</td>\n",
       "      <td>8000EBD30</td>\n",
       "      <td>10</td>\n",
       "      <td>8000EBD30</td>\n",
       "      <td>3697.34</td>\n",
       "      <td>US Dollar</td>\n",
       "      <td>3697.34</td>\n",
       "      <td>US Dollar</td>\n",
       "      <td>Reinvestment</td>\n",
       "      <td>0</td>\n",
       "    </tr>\n",
       "    <tr>\n",
       "      <th>1</th>\n",
       "      <td>2022/09/01 00:20</td>\n",
       "      <td>3208</td>\n",
       "      <td>8000F4580</td>\n",
       "      <td>1</td>\n",
       "      <td>8000F5340</td>\n",
       "      <td>0.01</td>\n",
       "      <td>US Dollar</td>\n",
       "      <td>0.01</td>\n",
       "      <td>US Dollar</td>\n",
       "      <td>Cheque</td>\n",
       "      <td>0</td>\n",
       "    </tr>\n",
       "    <tr>\n",
       "      <th>2</th>\n",
       "      <td>2022/09/01 00:00</td>\n",
       "      <td>3209</td>\n",
       "      <td>8000F4670</td>\n",
       "      <td>3209</td>\n",
       "      <td>8000F4670</td>\n",
       "      <td>14675.57</td>\n",
       "      <td>US Dollar</td>\n",
       "      <td>14675.57</td>\n",
       "      <td>US Dollar</td>\n",
       "      <td>Reinvestment</td>\n",
       "      <td>0</td>\n",
       "    </tr>\n",
       "    <tr>\n",
       "      <th>3</th>\n",
       "      <td>2022/09/01 00:02</td>\n",
       "      <td>12</td>\n",
       "      <td>8000F5030</td>\n",
       "      <td>12</td>\n",
       "      <td>8000F5030</td>\n",
       "      <td>2806.97</td>\n",
       "      <td>US Dollar</td>\n",
       "      <td>2806.97</td>\n",
       "      <td>US Dollar</td>\n",
       "      <td>Reinvestment</td>\n",
       "      <td>0</td>\n",
       "    </tr>\n",
       "    <tr>\n",
       "      <th>4</th>\n",
       "      <td>2022/09/01 00:06</td>\n",
       "      <td>10</td>\n",
       "      <td>8000F5200</td>\n",
       "      <td>10</td>\n",
       "      <td>8000F5200</td>\n",
       "      <td>36682.97</td>\n",
       "      <td>US Dollar</td>\n",
       "      <td>36682.97</td>\n",
       "      <td>US Dollar</td>\n",
       "      <td>Reinvestment</td>\n",
       "      <td>0</td>\n",
       "    </tr>\n",
       "  </tbody>\n",
       "</table>\n",
       "</div>"
      ],
      "text/plain": [
       "          Timestamp  From Bank    Account  To Bank  Account.1  \\\n",
       "0  2022/09/01 00:20         10  8000EBD30       10  8000EBD30   \n",
       "1  2022/09/01 00:20       3208  8000F4580        1  8000F5340   \n",
       "2  2022/09/01 00:00       3209  8000F4670     3209  8000F4670   \n",
       "3  2022/09/01 00:02         12  8000F5030       12  8000F5030   \n",
       "4  2022/09/01 00:06         10  8000F5200       10  8000F5200   \n",
       "\n",
       "   Amount Received Receiving Currency  Amount Paid Payment Currency  \\\n",
       "0          3697.34          US Dollar      3697.34        US Dollar   \n",
       "1             0.01          US Dollar         0.01        US Dollar   \n",
       "2         14675.57          US Dollar     14675.57        US Dollar   \n",
       "3          2806.97          US Dollar      2806.97        US Dollar   \n",
       "4         36682.97          US Dollar     36682.97        US Dollar   \n",
       "\n",
       "  Payment Format  Is Laundering  \n",
       "0   Reinvestment              0  \n",
       "1         Cheque              0  \n",
       "2   Reinvestment              0  \n",
       "3   Reinvestment              0  \n",
       "4   Reinvestment              0  "
      ]
     },
     "execution_count": 3,
     "metadata": {},
     "output_type": "execute_result"
    }
   ],
   "source": [
    "df = pd.read_csv('/Users/andrzej/python_programs/CODE/data/ibm-transactions-for-anti-money-laundering-aml/HI-Small_Trans.csv')\n",
    "df.head()"
   ]
  },
  {
   "cell_type": "code",
   "execution_count": 4,
   "metadata": {},
   "outputs": [
    {
     "data": {
      "text/plain": [
       "Timestamp             0\n",
       "From Bank             0\n",
       "Account               0\n",
       "To Bank               0\n",
       "Account.1             0\n",
       "Amount Received       0\n",
       "Receiving Currency    0\n",
       "Amount Paid           0\n",
       "Payment Currency      0\n",
       "Payment Format        0\n",
       "Is Laundering         0\n",
       "dtype: int64"
      ]
     },
     "execution_count": 4,
     "metadata": {},
     "output_type": "execute_result"
    }
   ],
   "source": [
    "df.isnull().sum()"
   ]
  },
  {
   "cell_type": "code",
   "execution_count": 5,
   "metadata": {},
   "outputs": [
    {
     "name": "stdout",
     "output_type": "stream",
     "text": [
      "(5078345, 11)\n"
     ]
    },
    {
     "data": {
      "text/plain": [
       "(5078336, 11)"
      ]
     },
     "execution_count": 5,
     "metadata": {},
     "output_type": "execute_result"
    }
   ],
   "source": [
    "print(df.shape)\n",
    "df = df.drop_duplicates(keep = 'first')\n",
    "df.shape"
   ]
  },
  {
   "cell_type": "code",
   "execution_count": 6,
   "metadata": {},
   "outputs": [
    {
     "data": {
      "text/plain": [
       "Is Laundering\n",
       "0    5073159\n",
       "1       5177\n",
       "Name: count, dtype: int64"
      ]
     },
     "execution_count": 6,
     "metadata": {},
     "output_type": "execute_result"
    }
   ],
   "source": [
    "df[\"Is Laundering\"].value_counts()"
   ]
  },
  {
   "cell_type": "code",
   "execution_count": 7,
   "metadata": {},
   "outputs": [
    {
     "data": {
      "text/plain": [
       "Is Laundering\n",
       "0    99.898057\n",
       "1     0.101943\n",
       "Name: proportion, dtype: float64"
      ]
     },
     "execution_count": 7,
     "metadata": {},
     "output_type": "execute_result"
    }
   ],
   "source": [
    "percentages = df[\"Is Laundering\"].value_counts(normalize=True)*100\n",
    "percentages"
   ]
  },
  {
   "cell_type": "code",
   "execution_count": 8,
   "metadata": {},
   "outputs": [
    {
     "data": {
      "image/png": "[encoded data removed]",
      "text/plain": [
       "<Figure size 600x600 with 1 Axes>"
      ]
     },
     "metadata": {},
     "output_type": "display_data"
    }
   ],
   "source": [
    "plt.figure(figsize=(6, 6))\n",
    "percentages.plot.pie(\n",
    "    autopct='%1.1f%%',\n",
    "    startangle=90,\n",
    ")\n",
    "plt.title(\"Percentage of 'Is Laundering'\")\n",
    "plt.ylabel(\"\")\n",
    "plt.savefig(\"is_laundering_pie_chart.png\")\n",
    "plt.show()\n"
   ]
  },
  {
   "cell_type": "code",
   "execution_count": 9,
   "metadata": {},
   "outputs": [
    {
     "name": "stdout",
     "output_type": "stream",
     "text": [
      "True\n"
     ]
    }
   ],
   "source": [
    "print(sorted(df['Receiving Currency'].unique()) == sorted(df['Payment Currency'].unique()))"
   ]
  },
  {
   "cell_type": "code",
   "execution_count": 10,
   "metadata": {},
   "outputs": [
    {
     "data": {
      "image/png": "[encoded data removed]",
      "text/plain": [
       "<Figure size 800x600 with 1 Axes>"
      ]
     },
     "metadata": {},
     "output_type": "display_data"
    }
   ],
   "source": [
    "currency_counts = df['Payment Format'].value_counts()\n",
    "\n",
    "plt.figure(figsize=(8, 6))\n",
    "currency_counts.plot.bar(color=['skyblue', 'lightgreen', 'salmon', 'gold'])\n",
    "plt.title('Counts of Each Currency')\n",
    "plt.xlabel('Currency')\n",
    "plt.ylabel('Counts')\n",
    "plt.xticks(rotation=45)  \n",
    "plt.tight_layout()\n",
    "\n",
    "plt.savefig(\"currency_barplot.png\")\n",
    "plt.show()"
   ]
  },
  {
   "cell_type": "code",
   "execution_count": 11,
   "metadata": {},
   "outputs": [
    {
     "name": "stdout",
     "output_type": "stream",
     "text": [
      "False\n"
     ]
    }
   ],
   "source": [
    "print(df['Amount Received'].equals(['Amount Paid']))"
   ]
  },
  {
   "cell_type": "code",
   "execution_count": 12,
   "metadata": {},
   "outputs": [
    {
     "data": {
      "text/plain": [
       "Timestamp              object\n",
       "From Bank               int64\n",
       "Account                object\n",
       "To Bank                 int64\n",
       "Account.1              object\n",
       "Amount Received       float64\n",
       "Receiving Currency     object\n",
       "Amount Paid           float64\n",
       "Payment Currency       object\n",
       "Payment Format         object\n",
       "Is Laundering           int64\n",
       "dtype: object"
      ]
     },
     "execution_count": 12,
     "metadata": {},
     "output_type": "execute_result"
    }
   ],
   "source": [
    "df.dtypes"
   ]
  },
  {
   "cell_type": "code",
   "execution_count": 13,
   "metadata": {},
   "outputs": [],
   "source": [
    "# df['Timestamp'] = pd.to_datetime(df['Timestamp'])\n",
    "# df['Timestamp'] = df['Timestamp'].apply(lambda x: x.value)\n",
    "# df['Timestamp'] = (df['Timestamp'] - df['Timestamp'].min()) / (df['Timestamp'].max() - df['Timestamp'].min())"
   ]
  },
  {
   "cell_type": "code",
   "execution_count": 14,
   "metadata": {},
   "outputs": [],
   "source": [
    "# cat_cols = df.select_dtypes(include='object').columns.to_list()\n",
    "# cat_cols"
   ]
  },
  {
   "cell_type": "code",
   "execution_count": 15,
   "metadata": {},
   "outputs": [],
   "source": [
    "# le = LabelEncoder()\n",
    "# for col in cat_cols:\n",
    "#     df[col] = le.fit_transform(df[col])\n",
    "# df"
   ]
  },
  {
   "cell_type": "code",
   "execution_count": 16,
   "metadata": {},
   "outputs": [],
   "source": [
    "# df.info()"
   ]
  },
  {
   "cell_type": "code",
   "execution_count": 17,
   "metadata": {},
   "outputs": [],
   "source": [
    "# scaler = MinMaxScaler()"
   ]
  },
  {
   "cell_type": "code",
   "execution_count": 18,
   "metadata": {},
   "outputs": [],
   "source": [
    "# df_scaled = pd.DataFrame(scaler.fit_transform(df), columns=df.columns)\n",
    "# df_scaled.info()"
   ]
  },
  {
   "cell_type": "code",
   "execution_count": 19,
   "metadata": {},
   "outputs": [],
   "source": [
    "# time_val = df['Timestamp'].values\n",
    "# time_val"
   ]
  },
  {
   "cell_type": "code",
   "execution_count": 20,
   "metadata": {},
   "outputs": [],
   "source": [
    "# y = df_scaled['Is Laundering']\n",
    "# X = df_scaled.drop('Is Laundering', axis=1)"
   ]
  },
  {
   "cell_type": "code",
   "execution_count": 21,
   "metadata": {},
   "outputs": [],
   "source": [
    "# X_train, X_test, y_train, y_test = train_test_split(X, y, test_size=0.2, stratify=y, random_state=42)"
   ]
  },
  {
   "cell_type": "markdown",
   "metadata": {},
   "source": [
    "<!-- clf = IsolationForest(random_state=42).fit(X_train, y_train)\n",
    "preds = clf.predict(X_test)\n",
    "auprc = average_precision_score(y_test, preds)\n",
    "\n",
    "print(f\"AUPRC: {auprc}\") -->"
   ]
  },
  {
   "cell_type": "code",
   "execution_count": 22,
   "metadata": {},
   "outputs": [],
   "source": [
    "def data_preprocessing(df, n_components):\n",
    "    df = df.drop('Is Laundering', axis=1)\n",
    "    df['Timestamp'] = pd.to_datetime(df['Timestamp'])\n",
    "    df['Timestamp'] = df['Timestamp'].apply(lambda x: x.value)\n",
    "    df['Timestamp'] = (df['Timestamp'] - df['Timestamp'].min()) / (df['Timestamp'].max() - df['Timestamp'].min())\n",
    "\n",
    "    cat_cols = df.select_dtypes(include='object').columns.to_list()\n",
    "    num_cols = df.select_dtypes(include=['float64', 'int64']).columns.to_list()\n",
    "\n",
    "    num_transformer = Pipeline(steps=[\n",
    "        # ('standard_scaler', StandardScaler()),\n",
    "        ('minmax_scaler', MinMaxScaler())\n",
    "    ])\n",
    "    cat_transformer = OneHotEncoder(handle_unknown='ignore')\n",
    "\n",
    "    preprocessor = ColumnTransformer(\n",
    "        transformers=[\n",
    "            ('num', num_transformer, num_cols),\n",
    "            ('cat', cat_transformer, cat_cols)\n",
    "        ]\n",
    "    )\n",
    "\n",
    "    X_preprocessed = preprocessor.fit_transform(df)\n",
    "\n",
    "    # Apply PCA\n",
    "    pca = PCA(n_components=n_components)\n",
    "    X_reduced = pca.fit_transform(X_preprocessed)\n",
    "\n",
    "\n",
    "    return X_preprocessed\n"
   ]
  },
  {
   "cell_type": "code",
   "execution_count": 23,
   "metadata": {},
   "outputs": [],
   "source": [
    "# import torch\n",
    "# import torch.nn as nn\n",
    "# import torch.optim as optim\n",
    "\n",
    "# class Autoencoder(nn.Module):\n",
    "#     def __init__(self, input_dim):\n",
    "#         super(Autoencoder, self).__init__()\n",
    "#         # Encoder\n",
    "#         self.encoder = nn.Sequential(\n",
    "#             nn.Linear(input_dim, 32),\n",
    "#             nn.ReLU(),\n",
    "#             nn.Linear(32, 16),\n",
    "#             nn.ReLU(),\n",
    "#             nn.Linear(16, 8)\n",
    "#         )\n",
    "#         # Decoder\n",
    "#         self.decoder = nn.Sequential(\n",
    "#             nn.Linear(8, 16),\n",
    "#             nn.ReLU(),\n",
    "#             nn.Linear(16, 32),\n",
    "#             nn.ReLU(),\n",
    "#             nn.Linear(32, input_dim)\n",
    "#         )\n",
    "    \n",
    "#     def forward(self, x):\n",
    "#         encoded = self.encoder(x)\n",
    "#         decoded = self.decoder(encoded)\n",
    "#         return decoded\n"
   ]
  },
  {
   "cell_type": "code",
   "execution_count": 36,
   "metadata": {},
   "outputs": [],
   "source": [
    "from torch.utils.data import DataLoader, TensorDataset\n",
    "\n",
    "X = data_preprocessing(df, 100)\n",
    "y = df['Is Laundering']\n",
    "\n",
    "X_train, X_test, y_train, y_test = train_test_split(X, y, test_size=0.2, stratify=y, random_state=42)\n"
   ]
  },
  {
   "cell_type": "code",
   "execution_count": 37,
   "metadata": {},
   "outputs": [
    {
     "name": "stdout",
     "output_type": "stream",
     "text": [
      "AUPRC: 0.0010308057859879126\n"
     ]
    }
   ],
   "source": [
    "clf = IsolationForest(random_state=42, contamination=0.001)\n",
    "clf.fit(X_train)\n",
    "\n",
    "preds = clf.predict(X_test)\n",
    "preds = np.where(preds == 1, 0, 1)\n",
    "\n",
    "auprc = average_precision_score(y_test, preds)\n",
    "\n",
    "print(f\"AUPRC: {auprc}\") \n",
    "\n",
    "# contamination=0.01\n",
    "# AUPRC: 0.0010276637812664218, 18 minut no PCA\n",
    "# AUPRC: 0.0010276637812664218, 27 minut with PCA 50\n",
    "\n",
    "# contamination=0.001\n",
    "# AUPRC: 0.0010308057859879126, 26 minut no PCA\n"
   ]
  },
  {
   "cell_type": "code",
   "execution_count": 38,
   "metadata": {},
   "outputs": [
    {
     "name": "stdout",
     "output_type": "stream",
     "text": [
      "Unikalne wartości w y_test: [0 1]\n",
      "Unikalne wartości w preds: [0 1]\n"
     ]
    }
   ],
   "source": [
    "print(\"Unikalne wartości w y_test:\", np.unique(y_test))\n",
    "print(\"Unikalne wartości w preds:\", np.unique(preds))"
   ]
  },
  {
   "cell_type": "code",
   "execution_count": 39,
   "metadata": {},
   "outputs": [
    {
     "name": "stdout",
     "output_type": "stream",
     "text": [
      "Rozkład w y_test:\n",
      "Is Laundering\n",
      "0    1014633\n",
      "1       1035\n",
      "Name: count, dtype: int64\n"
     ]
    }
   ],
   "source": [
    "print(\"Rozkład w y_test:\")\n",
    "print(pd.Series(y_test).value_counts())\n",
    "\n",
    "# 0    1014633\n",
    "# 1       1035"
   ]
  },
  {
   "cell_type": "code",
   "execution_count": 40,
   "metadata": {},
   "outputs": [
    {
     "name": "stdout",
     "output_type": "stream",
     "text": [
      "Rozkład w preds:\n",
      "0    1014684\n",
      "1        984\n",
      "Name: count, dtype: int64\n"
     ]
    }
   ],
   "source": [
    "print(\"Rozkład w preds:\")\n",
    "print(pd.Series(preds).value_counts())\n",
    "\n",
    "# contamination 0.01\n",
    "# 0    1005524\n",
    "# 1      10144\n",
    "\n",
    "# contamination 0.001\n",
    "# 0    1014684\n",
    "# 1        984"
   ]
  },
  {
   "cell_type": "code",
   "execution_count": 41,
   "metadata": {},
   "outputs": [],
   "source": [
    "# plt.title(\"Confusion Matrix:\")\n",
    "# cm=confusion_matrix(y_test, preds)\n",
    "# sns.heatmap(cm,annot=True,fmt=\"d\",cmap=\"Blues\")\n",
    "# plt.ylabel(\"Actual Values\")\n",
    "# plt.xlabel(\"Predicted Values\")"
   ]
  },
  {
   "cell_type": "code",
   "execution_count": 42,
   "metadata": {},
   "outputs": [
    {
     "name": "stdout",
     "output_type": "stream",
     "text": [
      "Confusion Matrix:\n",
      "[[1013653     980]\n",
      " [   1031       4]]\n"
     ]
    }
   ],
   "source": [
    "cm=confusion_matrix(y_test, preds)\n",
    "print(\"Confusion Matrix:\")\n",
    "print(cm)\n",
    "\n",
    "# Confusion Matrix: 0.01\n",
    "# [[1004505   10128]\n",
    "#  [   1019      16]]\n",
    "\n",
    "# Confusion Matrix: 0.001\n",
    "# [[1013653     980]\n",
    "#  [   1031       4]]"
   ]
  },
  {
   "cell_type": "code",
   "execution_count": 43,
   "metadata": {},
   "outputs": [
    {
     "name": "stdout",
     "output_type": "stream",
     "text": [
      "              precision    recall  f1-score   support\n",
      "\n",
      "   Not Fraud       1.00      1.00      1.00   1014633\n",
      "       Fraud       0.00      0.00      0.00      1035\n",
      "\n",
      "    accuracy                           1.00   1015668\n",
      "   macro avg       0.50      0.50      0.50   1015668\n",
      "weighted avg       1.00      1.00      1.00   1015668\n",
      "\n"
     ]
    }
   ],
   "source": [
    "from sklearn.metrics import classification_report\n",
    "print(classification_report(y_test, preds, target_names=[\"Not Fraud\", \"Fraud\"]))\n",
    "\n",
    "# 0.001\n",
    "#               precision    recall  f1-score   support\n",
    "\n",
    "#    Not Fraud       1.00      1.00      1.00   1014633\n",
    "#        Fraud       0.00      0.00      0.00      1035\n",
    "\n",
    "#     accuracy                           1.00   1015668\n",
    "#    macro avg       0.50      0.50      0.50   1015668\n",
    "# weighted avg       1.00      1.00      1.00   1015668\n"
   ]
  },
  {
   "cell_type": "code",
   "execution_count": 44,
   "metadata": {},
   "outputs": [
    {
     "name": "stdout",
     "output_type": "stream",
     "text": [
      "Accuracy Score: 99.80200222907486\n",
      "Precision Score: 0.40650406504065045\n",
      "Recall Score: 0.3864734299516908\n",
      "F1 Score: 0.396235760277365\n"
     ]
    }
   ],
   "source": [
    "print(\"Accuracy Score:\", accuracy_score(y_test, preds)*100)\n",
    "print(\"Precision Score:\",precision_score(y_test, preds)*100)\n",
    "print(\"Recall Score:\",recall_score(y_test, preds)*100)\n",
    "print(\"F1 Score:\", f1_score(y_test, preds)*100)\n",
    "\n",
    "# 0.01\n",
    "# Accuracy Score: 98.90249569741293\n",
    "# Precision Score: 0.15772870662460567\n",
    "# Recall Score: 1.5458937198067633\n",
    "# F1 Score: 0.2862510063511942\n",
    "\n",
    "# 0.001\n",
    "# Accuracy Score: 99.80200222907486\n",
    "# Precision Score: 0.40650406504065045\n",
    "# Recall Score: 0.3864734299516908\n",
    "# F1 Score: 0.396235760277365"
   ]
  },
  {
   "cell_type": "code",
   "execution_count": 45,
   "metadata": {},
   "outputs": [],
   "source": [
    "# X_train_dense = X_train.toarray()\n",
    "# X_test_dense = X_test.toarray()"
   ]
  },
  {
   "cell_type": "code",
   "execution_count": 46,
   "metadata": {},
   "outputs": [],
   "source": [
    "# def sparse_to_dense_in_batches(sparse_matrix, batch_size):\n",
    "#     for i in range(0, sparse_matrix.shape[0], batch_size):\n",
    "#         yield sparse_matrix[i:i+batch_size].toarray()\n",
    "\n",
    "# class SparseDataLoader:\n",
    "#     def __init__(self, sparse_matrix, batch_size):\n",
    "#         self.sparse_matrix = sparse_matrix\n",
    "#         self.batch_size = batch_size\n",
    "#         self.num_batches = (sparse_matrix.shape[0] + batch_size - 1) // batch_size\n",
    "\n",
    "#     def __iter__(self):\n",
    "#         return iter(sparse_to_dense_in_batches(self.sparse_matrix, self.batch_size))\n",
    "\n",
    "#     def __len__(self):\n",
    "#         return self.num_batches"
   ]
  },
  {
   "cell_type": "code",
   "execution_count": 47,
   "metadata": {},
   "outputs": [],
   "source": [
    "# from torch.utils.data import DataLoader, TensorDataset\n",
    "\n",
    "# # X = data_preprocessing(df)\n",
    "\n",
    "# # X_train, X_test = train_test_split(X, test_size=0.2, random_state=42)\n",
    "\n",
    "# # X_train_dense = X_train.toarray()  # or X_train.todense() if it's a sparse matrix in scipy\n",
    "# # X_test_dense = X_test.toarray()    # or X_test.todense()\n",
    "\n",
    "# X_train_tensor = torch.tensor(X_train, dtype=torch.float32)\n",
    "# X_test_tensor = torch.tensor(X_test, dtype=torch.float32)\n",
    "\n",
    "# # X_train_tensor = torch.tensor(X_train_reduced, dtype=torch.float32)\n",
    "# # X_test_tensor = torch.tensor(X_test_reduced, dtype=torch.float32)\n",
    "# input_dim = X_train_tensor.shape[1]\n",
    "# model = Autoencoder(input_dim)\n",
    "# criterion = nn.MSELoss()\n",
    "# optimizer = optim.Adam(model.parameters(), lr=0.001)\n",
    "# num_epochs = 50\n",
    "# batch_size = 64\n",
    "\n",
    "\n",
    "# batch_size = 64\n",
    "# train_loader = SparseDataLoader(X_train, batch_size)\n",
    "\n",
    "# # Training loop\n",
    "# for epoch in range(num_epochs):\n",
    "#     model.train()\n",
    "#     epoch_loss = 0\n",
    "\n",
    "#     for batch_dense in train_loader:\n",
    "#         batch_tensor = torch.tensor(batch_dense, dtype=torch.float32)\n",
    "#         optimizer.zero_grad()\n",
    "#         outputs = model(batch_tensor)\n",
    "#         loss = criterion(outputs, batch_tensor)\n",
    "#         loss.backward()\n",
    "#         optimizer.step()\n",
    "#         epoch_loss += loss.item()\n",
    "\n",
    "#     print(f\"Epoch {epoch + 1}/{num_epochs}, Loss: {epoch_loss / len(train_loader)}\")\n",
    "\n",
    "\n",
    "\n",
    "# # input_dim = X_train_tensor.shape[1]\n",
    "# # model = Autoencoder(input_dim)\n",
    "# # criterion = nn.MSELoss()\n",
    "# # optimizer = optim.Adam(model.parameters(), lr=0.001)\n",
    "\n",
    "# # num_epochs = 50\n",
    "# # batch_size = 64\n",
    "\n",
    "# # # Tworzenie DataLoader dla treningu\n",
    "# # train_dataset = TensorDataset(X_train_tensor)\n",
    "# # train_loader = DataLoader(train_dataset, batch_size=batch_size, shuffle=True)\n",
    "# # # Trening modelu z DataLoader\n",
    "# # for epoch in range(num_epochs):\n",
    "# #     model.train()\n",
    "# #     epoch_loss = 0\n",
    "\n",
    "# #     for batch in train_loader:\n",
    "# #         batch = batch[0]  # Wyciągnij dane z TensorDataset\n",
    "# #         optimizer.zero_grad()\n",
    "# #         outputs = model(batch)\n",
    "# #         loss = criterion(outputs, batch)\n",
    "# #         loss.backward()\n",
    "# #         optimizer.step()\n",
    "# #         epoch_loss += loss.item()\n",
    "    \n",
    "# #         print(f\"Epoch {epoch + 1}/{num_epochs}, Loss: {epoch_loss / len(train_loader)}\")\n",
    "        \n"
   ]
  },
  {
   "cell_type": "code",
   "execution_count": null,
   "metadata": {},
   "outputs": [],
   "source": []
  }
 ],
 "metadata": {
  "kernelspec": {
   "display_name": "snakes",
   "language": "python",
   "name": "python3"
  },
  "language_info": {
   "codemirror_mode": {
    "name": "ipython",
    "version": 3
   },
   "file_extension": ".py",
   "mimetype": "text/x-python",
   "name": "python",
   "nbconvert_exporter": "python",
   "pygments_lexer": "ipython3",
   "version": "3.9.16"
  }
 },
 "nbformat": 4,
 "nbformat_minor": 2
}
